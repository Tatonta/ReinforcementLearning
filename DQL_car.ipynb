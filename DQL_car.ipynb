{
 "cells": [
  {
   "cell_type": "code",
   "execution_count": 1,
   "metadata": {
    "collapsed": true,
    "pycharm": {
     "name": "#%%\n"
    }
   },
   "outputs": [],
   "source": [
    "import copy\n",
    "import random\n",
    "\n",
    "import gym\n",
    "import torch\n",
    "import torch.nn as nn\n",
    "import numpy as np\n",
    "from collections import deque\n",
    "import matplotlib.pyplot as plt\n",
    "from tqdm import tqdm\n",
    "from torch.utils.data import Dataset, DataLoader\n",
    "from torch.utils.tensorboard import SummaryWriter"
   ]
  },
  {
   "cell_type": "code",
   "execution_count": 2,
   "outputs": [],
   "source": [
    "device = torch.device(\"cuda\" if torch.cuda.is_available() else \"cpu\")\n",
    "env = gym.make(\"CartPole-v1\")\n",
    "torch.manual_seed(1423)\n",
    "writer = SummaryWriter()\n",
    "input_layers = env.observation_space.shape[0]\n",
    "output = env.action_space.n\n",
    "replay_size = 256\n",
    "batch_size = 16\n",
    "EPS = 1\n",
    "EPS_DECAY = 5000\n",
    "EPS_END = 0.05\n",
    "GAMMA = torch.tensor(0.95).float().to(device)\n",
    "network_update_steps = 5\n",
    "episodes = 10000\n",
    "learning_rate = 1e-3\n",
    "CriticSync = 0"
   ],
   "metadata": {
    "collapsed": false,
    "pycharm": {
     "name": "#%%\n"
    }
   }
  },
  {
   "cell_type": "code",
   "execution_count": 3,
   "outputs": [],
   "source": [
    "class BehavioralNetwork(nn.Module):\n",
    "    def __init__(self, input, output):\n",
    "        super().__init__()\n",
    "        self.Pass = nn.Sequential(\n",
    "        nn.Linear(input, 64),\n",
    "        nn.Tanh(),\n",
    "        nn.Linear(64, output)\n",
    "        )\n",
    "\n",
    "    def forward(self, x):\n",
    "        return self.Pass(x)\n",
    "\n",
    "Actor = BehavioralNetwork(input = input_layers, output = output).to(device)\n",
    "Critic = BehavioralNetwork(input = input_layers, output = output).to(device)\n",
    "\n",
    "Critic.load_state_dict(Actor.state_dict())\n",
    "# def build_nn(layer_sizes):\n",
    "#     assert len(layer_sizes) > 1\n",
    "#     layers = []\n",
    "#     for index in range(len(layer_sizes)-1):\n",
    "#         linear = nn.Linear(layer_sizes[index], layer_sizes[index+1])\n",
    "#         act =    nn.Tanh() if index < len(layer_sizes)-2 else nn.Identity()\n",
    "#         layers += (linear,act)\n",
    "#     return nn.Sequential(*layers)\n",
    "\n",
    "# Actor = build_nn(layer_sizes = [input_layers, 64, output]).to(device)\n",
    "# Critic = copy.deepcopy(Actor).to(device)\n",
    "\n",
    "# Ora non ho ben chiaro se il training fatto sull'attore è fatto quando colleziono una certa quantità di stati diverso dall'experience replay e poi faccio il training, rendendo questi stati però scorrelati usando un DataLoader o cose del genere, oppure faccio il training quando l'experience replay è pieno? Perchè il problema è che c'è il \"Forgetting\" e quindi il training per un dato nuovo dal dataset tende a rimpiazzare cosa è stato appena imparato allo step precedente come espresso da questa frase:\n",
    "# \"Today’s deep learning methods struggle to learn rapidly in the incremental, online settings that are most natural for the reinforcement learning algorithms emphasized in this book. The problem is sometimes described as one of “catastrophic interference” or “correlated data.” When something new is learned it tends to replace what has previously been learned rather than adding to it, with the result that the benefit of the older learning is lost. Techniques such as “replay buffers” are often used to retain and replay old data so that its benefits are not permanently lost¹.\"\n",
    "\n",
    "\n",
    "\n",
    "# Il motivo per il quale abbiamo 2 network diverse è che una deve genere la \"verità\", cioè il dato che ci serve per fare il training della Q-network che è in qualche modo \"supervised\". Questo dato sarebbe una state-action value e ci dice qual è l'azione migliore da scegliere in un certo stato, e l'errore viene calcolato a partire da questo dato per trainare invece la Q-Network che sceglie l'azione!\n",
    "\n",
    "optimizer = torch.optim.Adam(Actor.parameters(), lr= learning_rate)\n",
    "loss_fn = nn.MSELoss()"
   ],
   "metadata": {
    "collapsed": false,
    "pycharm": {
     "name": "#%%\n"
    }
   }
  },
  {
   "cell_type": "code",
   "execution_count": 4,
   "outputs": [],
   "source": [
    "\n",
    "def convert_data(experience, batch_size):\n",
    "    if(len(experience) < batch_size):\n",
    "        batch_size = len(experience)\n",
    "    data_batch = random.sample(experience, batch_size)\n",
    "    states_t = torch.tensor([exp[0] for exp in data_batch]).float().to(device)\n",
    "    actions_t = torch.tensor([exp[1] for exp in data_batch]).float()\n",
    "    rewards_t = torch.tensor([exp[2] for exp in data_batch]).float().to(device)\n",
    "    next_states_t =  torch.tensor([exp[3] for exp in data_batch]).float().to(device)\n",
    "    return states_t, actions_t, rewards_t, next_states_t\n",
    "\n",
    "\n",
    "def train(training_data, CriticSync, batch_size):\n",
    "    states_t, actions_t, rewards_t, next_states_t = convert_data(training_data, batch_size)\n",
    "    if CriticSync == network_update_steps:\n",
    "        Critic.load_state_dict(Actor.state_dict())\n",
    "        CriticSync = 0\n",
    "    qs = Actor(states_t)\n",
    "    bestAction, _ = torch.max(qs, axis=1)\n",
    "\n",
    "    with torch.no_grad():\n",
    "        q_next = Critic(next_states_t)\n",
    "    bestNextAction,_ = torch.max(q_next,axis=1)\n",
    "    target = rewards_t + GAMMA*bestNextAction\n",
    "\n",
    "    loss = loss_fn(bestAction, target)\n",
    "    optimizer.zero_grad()\n",
    "    loss.backward()\n",
    "    optimizer.step()\n",
    "    CriticSync += 1\n",
    "    return CriticSync\n",
    "\n",
    "def get_action(state, EPS):\n",
    "    # We do not require gradient at this point, because this function will be used either\n",
    "    # during experience collection or during inference\n",
    "    state = torch.from_numpy(state).float().to(device)\n",
    "    with torch.no_grad():\n",
    "        Qp = Actor(state)\n",
    "    Q,A = torch.max(Qp, axis=0)\n",
    "    A = A.item() if torch.rand(1,) > EPS else torch.randint(0,2,(1,)).item()\n",
    "    return A"
   ],
   "metadata": {
    "collapsed": false,
    "pycharm": {
     "name": "#%%\n"
    }
   }
  },
  {
   "cell_type": "code",
   "execution_count": 5,
   "outputs": [
    {
     "name": "stderr",
     "output_type": "stream",
     "text": [
      "  0%|          | 0/10000 [00:00<?, ?it/s]C:\\Users\\Tatonta\\AppData\\Local\\Temp\\ipykernel_6752\\1458641052.py:5: UserWarning: Creating a tensor from a list of numpy.ndarrays is extremely slow. Please consider converting the list to a single numpy.ndarray with numpy.array() before converting to a tensor. (Triggered internally at  C:\\actions-runner\\_work\\pytorch\\pytorch\\builder\\windows\\pytorch\\torch\\csrc\\utils\\tensor_new.cpp:210.)\n",
      "  states_t = torch.tensor([exp[0] for exp in data_batch]).float().to(device)\n",
      "100%|██████████| 10000/10000 [13:45<00:00, 12.12it/s]\n"
     ]
    },
    {
     "data": {
      "text/plain": "<Figure size 432x288 with 1 Axes>",
      "image/png": "[encoded data removed]"
     },
     "metadata": {
      "needs_background": "light"
     },
     "output_type": "display_data"
    }
   ],
   "source": [
    "experience_replay = deque(maxlen = replay_size)\n",
    "\n",
    "index = 0\n",
    "for i in range(replay_size):\n",
    "    obs = env.reset()\n",
    "    done = False\n",
    "    while not done:\n",
    "        action = get_action(obs, EPS)\n",
    "        obs_next, R, done, info = env.step(action)\n",
    "        experience_replay.append([obs, action, R, obs_next])\n",
    "        obs = obs_next\n",
    "        index += 1\n",
    "        if( index > replay_size ):\n",
    "            break\n",
    "\n",
    "index = 128\n",
    "totalReward = np.zeros(episodes)\n",
    "for i in tqdm(range(episodes)):\n",
    "    obs = env.reset()\n",
    "    done = False\n",
    "    epsReward = 0\n",
    "    while not done:\n",
    "        action = get_action(obs, EPS)\n",
    "        obs_next, R, done, _ = env.step(action)\n",
    "        epsReward += R\n",
    "        experience_replay.append([obs, action, R, obs_next])\n",
    "        obs = obs_next\n",
    "        index += 1\n",
    "        if (index > 128):\n",
    "            index = 0\n",
    "            for j in range(4):\n",
    "                CriticSync = train(experience_replay, CriticSync, batch_size)\n",
    "    totalReward[i] = epsReward\n",
    "    writer.add_scalar(\"Episode Total Reward\", totalReward[i], i)\n",
    "    if EPS > 0.05 :\n",
    "        EPS -= (1 / 5000)\n",
    "\n",
    "#TROVATO IL BUG!!!! Il problema era con CriticSync che nel ciclo for veniva passato come parametro e poi aggiornato dentro la funzione, il problema però è che ad ogni passo del ciclo for, veniva passato parametro il CriticSync non aggiornato, e quindi rimaneva sempre \"0\" e non aggiornava mai la target_network (chiamata anche Critic)\n",
    "plt.plot(totalReward, 'b--')\n",
    "plt.show()"
   ],
   "metadata": {
    "collapsed": false,
    "pycharm": {
     "name": "#%%\n"
    }
   }
  },
  {
   "cell_type": "code",
   "execution_count": 8,
   "outputs": [
    {
     "name": "stderr",
     "output_type": "stream",
     "text": [
      "  0%|          | 0/2 [01:37<?, ?it/s]\n"
     ]
    },
    {
     "ename": "KeyboardInterrupt",
     "evalue": "",
     "output_type": "error",
     "traceback": [
      "\u001B[1;31m---------------------------------------------------------------------------\u001B[0m",
      "\u001B[1;31mKeyboardInterrupt\u001B[0m                         Traceback (most recent call last)",
      "Input \u001B[1;32mIn [8]\u001B[0m, in \u001B[0;36m<cell line: 3>\u001B[1;34m()\u001B[0m\n\u001B[0;32m      8\u001B[0m     obs, reward, done, info \u001B[38;5;241m=\u001B[39m env\u001B[38;5;241m.\u001B[39mstep(A)\n\u001B[0;32m      9\u001B[0m     epsReward \u001B[38;5;241m+\u001B[39m\u001B[38;5;241m=\u001B[39m reward\n\u001B[1;32m---> 10\u001B[0m     \u001B[43menv\u001B[49m\u001B[38;5;241;43m.\u001B[39;49m\u001B[43mrender\u001B[49m\u001B[43m(\u001B[49m\u001B[43mmode\u001B[49m\u001B[38;5;241;43m=\u001B[39;49m\u001B[38;5;124;43m\"\u001B[39;49m\u001B[38;5;124;43mhuman\u001B[39;49m\u001B[38;5;124;43m\"\u001B[39;49m\u001B[43m)\u001B[49m\n\u001B[0;32m     11\u001B[0m \u001B[38;5;28mprint\u001B[39m(\u001B[38;5;124m\"\u001B[39m\u001B[38;5;124mepisode : \u001B[39m\u001B[38;5;132;01m{}\u001B[39;00m\u001B[38;5;124m, reward : \u001B[39m\u001B[38;5;132;01m{}\u001B[39;00m\u001B[38;5;124m\"\u001B[39m\u001B[38;5;241m.\u001B[39mformat(i,epsReward))\n",
      "File \u001B[1;32m~\\Desktop\\Reinforcement Learning Thesis\\Pycharm scripts\\venv\\lib\\site-packages\\gym\\core.py:295\u001B[0m, in \u001B[0;36mWrapper.render\u001B[1;34m(self, mode, **kwargs)\u001B[0m\n\u001B[0;32m    294\u001B[0m \u001B[38;5;28;01mdef\u001B[39;00m \u001B[38;5;21mrender\u001B[39m(\u001B[38;5;28mself\u001B[39m, mode\u001B[38;5;241m=\u001B[39m\u001B[38;5;124m\"\u001B[39m\u001B[38;5;124mhuman\u001B[39m\u001B[38;5;124m\"\u001B[39m, \u001B[38;5;241m*\u001B[39m\u001B[38;5;241m*\u001B[39mkwargs):\n\u001B[1;32m--> 295\u001B[0m     \u001B[38;5;28;01mreturn\u001B[39;00m \u001B[38;5;28;43mself\u001B[39;49m\u001B[38;5;241;43m.\u001B[39;49m\u001B[43menv\u001B[49m\u001B[38;5;241;43m.\u001B[39;49m\u001B[43mrender\u001B[49m\u001B[43m(\u001B[49m\u001B[43mmode\u001B[49m\u001B[43m,\u001B[49m\u001B[43m \u001B[49m\u001B[38;5;241;43m*\u001B[39;49m\u001B[38;5;241;43m*\u001B[39;49m\u001B[43mkwargs\u001B[49m\u001B[43m)\u001B[49m\n",
      "File \u001B[1;32m~\\Desktop\\Reinforcement Learning Thesis\\Pycharm scripts\\venv\\lib\\site-packages\\gym\\envs\\classic_control\\cartpole.py:229\u001B[0m, in \u001B[0;36mCartPoleEnv.render\u001B[1;34m(self, mode)\u001B[0m\n\u001B[0;32m    226\u001B[0m \u001B[38;5;28mself\u001B[39m\u001B[38;5;241m.\u001B[39mcarttrans\u001B[38;5;241m.\u001B[39mset_translation(cartx, carty)\n\u001B[0;32m    227\u001B[0m \u001B[38;5;28mself\u001B[39m\u001B[38;5;241m.\u001B[39mpoletrans\u001B[38;5;241m.\u001B[39mset_rotation(\u001B[38;5;241m-\u001B[39mx[\u001B[38;5;241m2\u001B[39m])\n\u001B[1;32m--> 229\u001B[0m \u001B[38;5;28;01mreturn\u001B[39;00m \u001B[38;5;28;43mself\u001B[39;49m\u001B[38;5;241;43m.\u001B[39;49m\u001B[43mviewer\u001B[49m\u001B[38;5;241;43m.\u001B[39;49m\u001B[43mrender\u001B[49m\u001B[43m(\u001B[49m\u001B[43mreturn_rgb_array\u001B[49m\u001B[38;5;241;43m=\u001B[39;49m\u001B[43mmode\u001B[49m\u001B[43m \u001B[49m\u001B[38;5;241;43m==\u001B[39;49m\u001B[43m \u001B[49m\u001B[38;5;124;43m\"\u001B[39;49m\u001B[38;5;124;43mrgb_array\u001B[39;49m\u001B[38;5;124;43m\"\u001B[39;49m\u001B[43m)\u001B[49m\n",
      "File \u001B[1;32m~\\Desktop\\Reinforcement Learning Thesis\\Pycharm scripts\\venv\\lib\\site-packages\\gym\\envs\\classic_control\\rendering.py:125\u001B[0m, in \u001B[0;36mViewer.render\u001B[1;34m(self, return_rgb_array)\u001B[0m\n\u001B[0;32m    123\u001B[0m \u001B[38;5;28mself\u001B[39m\u001B[38;5;241m.\u001B[39mwindow\u001B[38;5;241m.\u001B[39mclear()\n\u001B[0;32m    124\u001B[0m \u001B[38;5;28mself\u001B[39m\u001B[38;5;241m.\u001B[39mwindow\u001B[38;5;241m.\u001B[39mswitch_to()\n\u001B[1;32m--> 125\u001B[0m \u001B[38;5;28;43mself\u001B[39;49m\u001B[38;5;241;43m.\u001B[39;49m\u001B[43mwindow\u001B[49m\u001B[38;5;241;43m.\u001B[39;49m\u001B[43mdispatch_events\u001B[49m\u001B[43m(\u001B[49m\u001B[43m)\u001B[49m\n\u001B[0;32m    126\u001B[0m \u001B[38;5;28mself\u001B[39m\u001B[38;5;241m.\u001B[39mtransform\u001B[38;5;241m.\u001B[39menable()\n\u001B[0;32m    127\u001B[0m \u001B[38;5;28;01mfor\u001B[39;00m geom \u001B[38;5;129;01min\u001B[39;00m \u001B[38;5;28mself\u001B[39m\u001B[38;5;241m.\u001B[39mgeoms:\n",
      "File \u001B[1;32m~\\Desktop\\Reinforcement Learning Thesis\\Pycharm scripts\\venv\\lib\\site-packages\\pyglet\\window\\win32\\__init__.py:725\u001B[0m, in \u001B[0;36mWin32Window.dispatch_events\u001B[1;34m(self)\u001B[0m\n\u001B[0;32m    722\u001B[0m \u001B[38;5;28mself\u001B[39m\u001B[38;5;241m.\u001B[39mdispatch_pending_events()\n\u001B[0;32m    724\u001B[0m msg \u001B[38;5;241m=\u001B[39m MSG()\n\u001B[1;32m--> 725\u001B[0m \u001B[38;5;28;01mwhile\u001B[39;00m \u001B[43m_user32\u001B[49m\u001B[38;5;241;43m.\u001B[39;49m\u001B[43mPeekMessageW\u001B[49m\u001B[43m(\u001B[49m\u001B[43mbyref\u001B[49m\u001B[43m(\u001B[49m\u001B[43mmsg\u001B[49m\u001B[43m)\u001B[49m\u001B[43m,\u001B[49m\u001B[43m \u001B[49m\u001B[38;5;241;43m0\u001B[39;49m\u001B[43m,\u001B[49m\u001B[43m \u001B[49m\u001B[38;5;241;43m0\u001B[39;49m\u001B[43m,\u001B[49m\u001B[43m \u001B[49m\u001B[38;5;241;43m0\u001B[39;49m\u001B[43m,\u001B[49m\u001B[43m \u001B[49m\u001B[43mPM_REMOVE\u001B[49m\u001B[43m)\u001B[49m:\n\u001B[0;32m    726\u001B[0m     _user32\u001B[38;5;241m.\u001B[39mTranslateMessage(byref(msg))\n\u001B[0;32m    727\u001B[0m     _user32\u001B[38;5;241m.\u001B[39mDispatchMessageW(byref(msg))\n",
      "\u001B[1;31mKeyboardInterrupt\u001B[0m: "
     ]
    }
   ],
   "source": [
    "env = gym.make(\"CartPole-v1\")\n",
    "epsReward = np.zeros(2)\n",
    "for i in tqdm(range(2)):\n",
    "    obs = env.reset()\n",
    "    done = False\n",
    "    while not done:\n",
    "        A =  get_action(obs, EPS=0)\n",
    "        obs, reward, done, info = env.step(A)\n",
    "        epsReward += reward\n",
    "        env.render(mode=\"human\")\n",
    "    print(\"episode : {}, reward : {}\".format(i,epsReward))"
   ],
   "metadata": {
    "collapsed": false,
    "pycharm": {
     "name": "#%%\n"
    }
   }
  }
 ],
 "metadata": {
  "kernelspec": {
   "display_name": "Python 3",
   "language": "python",
   "name": "python3"
  },
  "language_info": {
   "codemirror_mode": {
    "name": "ipython",
    "version": 2
   },
   "file_extension": ".py",
   "mimetype": "text/x-python",
   "name": "python",
   "nbconvert_exporter": "python",
   "pygments_lexer": "ipython2",
   "version": "2.7.6"
  }
 },
 "nbformat": 4,
 "nbformat_minor": 0
}