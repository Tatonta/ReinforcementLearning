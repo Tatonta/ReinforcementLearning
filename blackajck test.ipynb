{
 "cells": [
  {
   "cell_type": "code",
   "execution_count": 7,
   "outputs": [
    {
     "name": "stdout",
     "output_type": "stream",
     "text": [
      "getting ready to test policy\n",
      "win rate  0.249  loss rate  0.715  draw rate  0.036\n"
     ]
    },
    {
     "data": {
      "text/plain": "<Figure size 432x288 with 1 Axes>",
      "image/png": "[encoded data removed]"
     },
     "metadata": {
      "needs_background": "light"
     },
     "output_type": "display_data"
    }
   ],
   "source": [
    "import gym\n",
    "import numpy as np\n",
    "import matplotlib.pyplot as plt\n",
    "env = gym.make(\"Blackjack-v1\")\n",
    "\n",
    "Q = {}\n",
    "agentSumSpace = [i for i in range(4, 22)]\n",
    "dealerShowCardSpace = [i+1 for i in range(10)]\n",
    "agentAceSpace = [False, True]\n",
    "actionSpace = [0, 1] # stick or hit\n",
    "\n",
    "stateSpace = []\n",
    "returns = {}\n",
    "pairsVisited = {}\n",
    "for total in agentSumSpace:\n",
    "    for card in dealerShowCardSpace:\n",
    "        for ace in agentAceSpace:\n",
    "            for action in agentAceSpace:\n",
    "                Q[((total, card, ace), action)] = 0\n",
    "                returns[((total, card, ace), action)] = 0\n",
    "                pairsVisited[((total, card, ace), action)] = 0\n",
    "            stateSpace.append((total, card, ace))\n",
    "\n",
    "policy = {}\n",
    "for state in stateSpace:\n",
    "    policy[state] = np.random.choice(actionSpace)\n",
    "\n",
    "numEpisodes = 1000\n",
    "rewards = np.zeros(numEpisodes)\n",
    "totalReward = 0\n",
    "wins = 0\n",
    "losses = 0\n",
    "draws = 0\n",
    "print(\"getting ready to test policy\")\n",
    "for i in range(numEpisodes):\n",
    "    observation = env.reset()\n",
    "    done = False\n",
    "    while not done:\n",
    "        action = policy[observation]\n",
    "        observation_, reward, done, info = env.step(action)\n",
    "        observation = observation_\n",
    "    totalReward += reward\n",
    "    rewards[i] = totalReward\n",
    "\n",
    "    if reward >= 1:\n",
    "        wins += 1\n",
    "    elif reward == 0:\n",
    "        draws += 1\n",
    "    elif reward == -1:\n",
    "        losses += 1\n",
    "\n",
    "wins /= numEpisodes\n",
    "losses /= numEpisodes\n",
    "draws /= numEpisodes\n",
    "print(\"win rate \", wins, \" loss rate \", losses, \" draw rate \", draws)\n",
    "plt.plot(rewards)\n",
    "plt.show()"
   ],
   "metadata": {
    "collapsed": false,
    "pycharm": {
     "name": "#%%\n"
    }
   }
  },
  {
   "cell_type": "code",
   "execution_count": null,
   "outputs": [],
   "source": [],
   "metadata": {
    "collapsed": false,
    "pycharm": {
     "name": "#%%\n"
    }
   }
  }
 ],
 "metadata": {
  "kernelspec": {
   "display_name": "Python 3",
   "language": "python",
   "name": "python3"
  },
  "language_info": {
   "codemirror_mode": {
    "name": "ipython",
    "version": 2
   },
   "file_extension": ".py",
   "mimetype": "text/x-python",
   "name": "python",
   "nbconvert_exporter": "python",
   "pygments_lexer": "ipython2",
   "version": "2.7.6"
  }
 },
 "nbformat": 4,
 "nbformat_minor": 0
}