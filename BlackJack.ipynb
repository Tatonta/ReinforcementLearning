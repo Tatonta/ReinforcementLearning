{
 "cells": [
  {
   "cell_type": "code",
   "execution_count": 1,
   "outputs": [],
   "source": [
    "import gym\n",
    "import numpy as np\n",
    "import matplotlib.pyplot as plt\n",
    "from tqdm import tqdm"
   ],
   "metadata": {
    "collapsed": false,
    "pycharm": {
     "name": "#%%\n"
    }
   }
  },
  {
   "cell_type": "code",
   "execution_count": 2,
   "outputs": [],
   "source": [
    "if __name__ == '__main__':\n",
    "    env = gym.make(\"Blackjack-v1\")\n",
    "    EPS = 0.05\n",
    "    GAMMA = 1.0\n",
    "\n",
    "    Q = {}\n",
    "    agentSumSpace = [i for i in range(4, 22)]\n",
    "    dealerShowCardSpace = [i+1 for i in range(10)]\n",
    "    agentAceSpace = [False, True]\n",
    "    actionSpace = [0, 1] # stick or hit\n",
    "\n",
    "    stateSpace = []\n",
    "    returns = {}\n",
    "    pairsVisited = {}\n",
    "    for total in agentSumSpace:\n",
    "        for card in dealerShowCardSpace:\n",
    "            for ace in agentAceSpace:\n",
    "                for action in agentAceSpace:\n",
    "                    Q[((total, card, ace), action)] = 0\n",
    "                    returns[((total, card, ace), action)] = 0\n",
    "                    pairsVisited[((total, card, ace), action)] = 0\n",
    "                stateSpace.append((total, card, ace))\n",
    "\n",
    "    policy = {}\n",
    "    for state in stateSpace:\n",
    "        policy[state] = np.random.choice(actionSpace)"
   ],
   "metadata": {
    "collapsed": false,
    "pycharm": {
     "name": "#%%\n"
    }
   }
  },
  {
   "cell_type": "code",
   "execution_count": 4,
   "outputs": [
    {
     "name": "stderr",
     "output_type": "stream",
     "text": [
      "  0%|          | 3024/5000000 [00:00<08:15, 10091.08it/s]"
     ]
    },
    {
     "name": "stdout",
     "output_type": "stream",
     "text": [
      "starting episode 0\n"
     ]
    },
    {
     "name": "stderr",
     "output_type": "stream",
     "text": [
      "  2%|▏         | 101590/5000000 [00:10<08:10, 9984.58it/s]"
     ]
    },
    {
     "name": "stdout",
     "output_type": "stream",
     "text": [
      "starting episode 100000\n"
     ]
    },
    {
     "name": "stderr",
     "output_type": "stream",
     "text": [
      "  4%|▍         | 202051/5000000 [00:20<07:53, 10131.98it/s]"
     ]
    },
    {
     "name": "stdout",
     "output_type": "stream",
     "text": [
      "starting episode 200000\n"
     ]
    },
    {
     "name": "stderr",
     "output_type": "stream",
     "text": [
      "  6%|▌         | 302037/5000000 [00:30<07:47, 10041.85it/s]"
     ]
    },
    {
     "name": "stdout",
     "output_type": "stream",
     "text": [
      "starting episode 300000\n"
     ]
    },
    {
     "name": "stderr",
     "output_type": "stream",
     "text": [
      "  8%|▊         | 401221/5000000 [00:40<07:38, 10032.22it/s]"
     ]
    },
    {
     "name": "stdout",
     "output_type": "stream",
     "text": [
      "starting episode 400000\n"
     ]
    },
    {
     "name": "stderr",
     "output_type": "stream",
     "text": [
      " 10%|█         | 501997/5000000 [00:50<07:24, 10123.58it/s]"
     ]
    },
    {
     "name": "stdout",
     "output_type": "stream",
     "text": [
      "starting episode 500000\n"
     ]
    },
    {
     "name": "stderr",
     "output_type": "stream",
     "text": [
      " 12%|█▏        | 601387/5000000 [01:00<07:12, 10171.42it/s]"
     ]
    },
    {
     "name": "stdout",
     "output_type": "stream",
     "text": [
      "starting episode 600000\n"
     ]
    },
    {
     "name": "stderr",
     "output_type": "stream",
     "text": [
      " 14%|█▍        | 701910/5000000 [01:10<07:07, 10060.25it/s]"
     ]
    },
    {
     "name": "stdout",
     "output_type": "stream",
     "text": [
      "starting episode 700000\n"
     ]
    },
    {
     "name": "stderr",
     "output_type": "stream",
     "text": [
      " 16%|█▌        | 801243/5000000 [01:19<07:04, 9884.22it/s] "
     ]
    },
    {
     "name": "stdout",
     "output_type": "stream",
     "text": [
      "starting episode 800000\n"
     ]
    },
    {
     "name": "stderr",
     "output_type": "stream",
     "text": [
      " 18%|█▊        | 901323/5000000 [01:29<06:54, 9888.39it/s] "
     ]
    },
    {
     "name": "stdout",
     "output_type": "stream",
     "text": [
      "starting episode 900000\n"
     ]
    },
    {
     "name": "stderr",
     "output_type": "stream",
     "text": [
      " 20%|██        | 1002538/5000000 [01:39<06:36, 10073.46it/s]"
     ]
    },
    {
     "name": "stdout",
     "output_type": "stream",
     "text": [
      "starting episode 1000000\n"
     ]
    },
    {
     "name": "stderr",
     "output_type": "stream",
     "text": [
      " 22%|██▏       | 1102839/5000000 [01:49<06:27, 10054.20it/s]"
     ]
    },
    {
     "name": "stdout",
     "output_type": "stream",
     "text": [
      "starting episode 1100000\n"
     ]
    },
    {
     "name": "stderr",
     "output_type": "stream",
     "text": [
      " 24%|██▍       | 1202210/5000000 [01:59<06:14, 10139.15it/s]"
     ]
    },
    {
     "name": "stdout",
     "output_type": "stream",
     "text": [
      "starting episode 1200000\n"
     ]
    },
    {
     "name": "stderr",
     "output_type": "stream",
     "text": [
      " 26%|██▌       | 1301615/5000000 [02:09<06:09, 10008.37it/s]"
     ]
    },
    {
     "name": "stdout",
     "output_type": "stream",
     "text": [
      "starting episode 1300000\n"
     ]
    },
    {
     "name": "stderr",
     "output_type": "stream",
     "text": [
      " 28%|██▊       | 1402933/5000000 [02:19<05:52, 10192.18it/s]"
     ]
    },
    {
     "name": "stdout",
     "output_type": "stream",
     "text": [
      "starting episode 1400000\n"
     ]
    },
    {
     "name": "stderr",
     "output_type": "stream",
     "text": [
      " 30%|███       | 1501279/5000000 [02:29<05:45, 10112.68it/s]"
     ]
    },
    {
     "name": "stdout",
     "output_type": "stream",
     "text": [
      "starting episode 1500000\n"
     ]
    },
    {
     "name": "stderr",
     "output_type": "stream",
     "text": [
      " 32%|███▏      | 1602665/5000000 [02:39<05:34, 10161.66it/s]"
     ]
    },
    {
     "name": "stdout",
     "output_type": "stream",
     "text": [
      "starting episode 1600000\n"
     ]
    },
    {
     "name": "stderr",
     "output_type": "stream",
     "text": [
      " 34%|███▍      | 1701104/5000000 [02:49<05:26, 10112.43it/s]"
     ]
    },
    {
     "name": "stdout",
     "output_type": "stream",
     "text": [
      "starting episode 1700000\n"
     ]
    },
    {
     "name": "stderr",
     "output_type": "stream",
     "text": [
      " 36%|███▌      | 1803496/5000000 [02:59<05:16, 10089.37it/s]"
     ]
    },
    {
     "name": "stdout",
     "output_type": "stream",
     "text": [
      "starting episode 1800000\n"
     ]
    },
    {
     "name": "stderr",
     "output_type": "stream",
     "text": [
      " 38%|███▊      | 1902668/5000000 [03:09<05:04, 10159.61it/s]"
     ]
    },
    {
     "name": "stdout",
     "output_type": "stream",
     "text": [
      "starting episode 1900000\n"
     ]
    },
    {
     "name": "stderr",
     "output_type": "stream",
     "text": [
      " 40%|████      | 2002088/5000000 [03:19<04:57, 10079.48it/s]"
     ]
    },
    {
     "name": "stdout",
     "output_type": "stream",
     "text": [
      "starting episode 2000000\n"
     ]
    },
    {
     "name": "stderr",
     "output_type": "stream",
     "text": [
      " 42%|████▏     | 2101510/5000000 [03:29<04:48, 10061.94it/s]"
     ]
    },
    {
     "name": "stdout",
     "output_type": "stream",
     "text": [
      "starting episode 2100000\n"
     ]
    },
    {
     "name": "stderr",
     "output_type": "stream",
     "text": [
      " 44%|████▍     | 2201926/5000000 [03:39<04:36, 10124.44it/s]"
     ]
    },
    {
     "name": "stdout",
     "output_type": "stream",
     "text": [
      "starting episode 2200000\n"
     ]
    },
    {
     "name": "stderr",
     "output_type": "stream",
     "text": [
      " 46%|████▌     | 2302895/5000000 [03:49<04:32, 9901.16it/s] "
     ]
    },
    {
     "name": "stdout",
     "output_type": "stream",
     "text": [
      "starting episode 2300000\n"
     ]
    },
    {
     "name": "stderr",
     "output_type": "stream",
     "text": [
      " 48%|████▊     | 2401429/5000000 [03:58<04:20, 9985.54it/s] "
     ]
    },
    {
     "name": "stdout",
     "output_type": "stream",
     "text": [
      "starting episode 2400000\n"
     ]
    },
    {
     "name": "stderr",
     "output_type": "stream",
     "text": [
      " 50%|█████     | 2502723/5000000 [04:09<04:26, 9360.75it/s] "
     ]
    },
    {
     "name": "stdout",
     "output_type": "stream",
     "text": [
      "starting episode 2500000\n"
     ]
    },
    {
     "name": "stderr",
     "output_type": "stream",
     "text": [
      " 52%|█████▏    | 2602226/5000000 [04:20<04:40, 8535.15it/s] "
     ]
    },
    {
     "name": "stdout",
     "output_type": "stream",
     "text": [
      "starting episode 2600000\n"
     ]
    },
    {
     "name": "stderr",
     "output_type": "stream",
     "text": [
      " 54%|█████▍    | 2701114/5000000 [04:29<03:49, 10027.88it/s]"
     ]
    },
    {
     "name": "stdout",
     "output_type": "stream",
     "text": [
      "starting episode 2700000\n"
     ]
    },
    {
     "name": "stderr",
     "output_type": "stream",
     "text": [
      " 56%|█████▌    | 2802309/5000000 [04:39<03:36, 10155.46it/s]"
     ]
    },
    {
     "name": "stdout",
     "output_type": "stream",
     "text": [
      "starting episode 2800000\n"
     ]
    },
    {
     "name": "stderr",
     "output_type": "stream",
     "text": [
      " 58%|█████▊    | 2901985/5000000 [04:49<03:26, 10152.96it/s]"
     ]
    },
    {
     "name": "stdout",
     "output_type": "stream",
     "text": [
      "starting episode 2900000\n"
     ]
    },
    {
     "name": "stderr",
     "output_type": "stream",
     "text": [
      " 60%|██████    | 3002115/5000000 [04:59<03:15, 10226.44it/s]"
     ]
    },
    {
     "name": "stdout",
     "output_type": "stream",
     "text": [
      "starting episode 3000000\n"
     ]
    },
    {
     "name": "stderr",
     "output_type": "stream",
     "text": [
      " 62%|██████▏   | 3102940/5000000 [05:09<03:06, 10169.74it/s]"
     ]
    },
    {
     "name": "stdout",
     "output_type": "stream",
     "text": [
      "starting episode 3100000\n"
     ]
    },
    {
     "name": "stderr",
     "output_type": "stream",
     "text": [
      " 64%|██████▍   | 3202702/5000000 [05:19<02:58, 10079.99it/s]"
     ]
    },
    {
     "name": "stdout",
     "output_type": "stream",
     "text": [
      "starting episode 3200000\n"
     ]
    },
    {
     "name": "stderr",
     "output_type": "stream",
     "text": [
      " 66%|██████▌   | 3302424/5000000 [05:29<02:48, 10101.98it/s]"
     ]
    },
    {
     "name": "stdout",
     "output_type": "stream",
     "text": [
      "starting episode 3300000\n"
     ]
    },
    {
     "name": "stderr",
     "output_type": "stream",
     "text": [
      " 68%|██████▊   | 3402224/5000000 [05:39<02:36, 10219.96it/s]"
     ]
    },
    {
     "name": "stdout",
     "output_type": "stream",
     "text": [
      "starting episode 3400000\n"
     ]
    },
    {
     "name": "stderr",
     "output_type": "stream",
     "text": [
      " 70%|███████   | 3502112/5000000 [05:49<02:31, 9914.98it/s] "
     ]
    },
    {
     "name": "stdout",
     "output_type": "stream",
     "text": [
      "starting episode 3500000\n"
     ]
    },
    {
     "name": "stderr",
     "output_type": "stream",
     "text": [
      " 72%|███████▏  | 3601192/5000000 [05:58<02:19, 10040.29it/s]"
     ]
    },
    {
     "name": "stdout",
     "output_type": "stream",
     "text": [
      "starting episode 3600000\n"
     ]
    },
    {
     "name": "stderr",
     "output_type": "stream",
     "text": [
      " 74%|███████▍  | 3702932/5000000 [06:09<02:07, 10171.78it/s]"
     ]
    },
    {
     "name": "stdout",
     "output_type": "stream",
     "text": [
      "starting episode 3700000\n"
     ]
    },
    {
     "name": "stderr",
     "output_type": "stream",
     "text": [
      " 76%|███████▌  | 3805916/5000000 [06:19<01:57, 10172.80it/s]"
     ]
    },
    {
     "name": "stdout",
     "output_type": "stream",
     "text": [
      "starting episode 3800000\n"
     ]
    },
    {
     "name": "stderr",
     "output_type": "stream",
     "text": [
      " 78%|███████▊  | 3901157/5000000 [06:28<01:46, 10324.44it/s]"
     ]
    },
    {
     "name": "stdout",
     "output_type": "stream",
     "text": [
      "starting episode 3900000\n"
     ]
    },
    {
     "name": "stderr",
     "output_type": "stream",
     "text": [
      " 80%|████████  | 4002130/5000000 [06:38<01:38, 10142.10it/s]"
     ]
    },
    {
     "name": "stdout",
     "output_type": "stream",
     "text": [
      "starting episode 4000000\n"
     ]
    },
    {
     "name": "stderr",
     "output_type": "stream",
     "text": [
      " 82%|████████▏ | 4102223/5000000 [06:48<01:28, 10161.95it/s]"
     ]
    },
    {
     "name": "stdout",
     "output_type": "stream",
     "text": [
      "starting episode 4100000\n"
     ]
    },
    {
     "name": "stderr",
     "output_type": "stream",
     "text": [
      " 84%|████████▍ | 4202088/5000000 [06:58<01:18, 10162.30it/s]"
     ]
    },
    {
     "name": "stdout",
     "output_type": "stream",
     "text": [
      "starting episode 4200000\n"
     ]
    },
    {
     "name": "stderr",
     "output_type": "stream",
     "text": [
      " 86%|████████▌ | 4301777/5000000 [07:08<01:09, 10102.73it/s]"
     ]
    },
    {
     "name": "stdout",
     "output_type": "stream",
     "text": [
      "starting episode 4300000\n"
     ]
    },
    {
     "name": "stderr",
     "output_type": "stream",
     "text": [
      " 88%|████████▊ | 4401753/5000000 [07:17<00:58, 10143.10it/s]"
     ]
    },
    {
     "name": "stdout",
     "output_type": "stream",
     "text": [
      "starting episode 4400000\n"
     ]
    },
    {
     "name": "stderr",
     "output_type": "stream",
     "text": [
      " 90%|█████████ | 4502146/5000000 [07:28<00:50, 9889.49it/s] "
     ]
    },
    {
     "name": "stdout",
     "output_type": "stream",
     "text": [
      "starting episode 4500000\n"
     ]
    },
    {
     "name": "stderr",
     "output_type": "stream",
     "text": [
      " 92%|█████████▏| 4603755/5000000 [07:38<00:39, 10072.37it/s]"
     ]
    },
    {
     "name": "stdout",
     "output_type": "stream",
     "text": [
      "starting episode 4600000\n"
     ]
    },
    {
     "name": "stderr",
     "output_type": "stream",
     "text": [
      " 94%|█████████▍| 4701595/5000000 [07:47<00:29, 10161.49it/s]"
     ]
    },
    {
     "name": "stdout",
     "output_type": "stream",
     "text": [
      "starting episode 4700000\n"
     ]
    },
    {
     "name": "stderr",
     "output_type": "stream",
     "text": [
      " 96%|█████████▌| 4802492/5000000 [07:57<00:19, 10225.57it/s]"
     ]
    },
    {
     "name": "stdout",
     "output_type": "stream",
     "text": [
      "starting episode 4800000\n"
     ]
    },
    {
     "name": "stderr",
     "output_type": "stream",
     "text": [
      " 98%|█████████▊| 4901412/5000000 [08:07<00:09, 10234.52it/s]"
     ]
    },
    {
     "name": "stdout",
     "output_type": "stream",
     "text": [
      "starting episode 4900000\n"
     ]
    },
    {
     "name": "stderr",
     "output_type": "stream",
     "text": [
      "100%|██████████| 5000000/5000000 [08:17<00:00, 10051.25it/s]\n"
     ]
    }
   ],
   "source": [
    "    numEpisodes = 5000000\n",
    "    for i in tqdm(range(numEpisodes)):\n",
    "        statesActionsReturns = []\n",
    "        memory = []\n",
    "        if i % 100000 == 0:\n",
    "            print(\"starting episode\", i)\n",
    "        observation = env.reset()\n",
    "        done = False\n",
    "        while not done:\n",
    "            action = policy[observation]\n",
    "            observation_, reward, done, info = env.step(action)\n",
    "            memory.append((observation[0], observation[1], observation[2], action, reward))\n",
    "            observation = observation_\n",
    "        memory.append((observation[0], observation[1], observation[2], action, reward)) #Quando l'episodio è finalmente finito lo mettiamo in memoria\n",
    "\n",
    "        G = 0\n",
    "        last = True\n",
    "        for playerSum, dealerCard, usableAce, action, reward in reversed(memory):\n",
    "            if last:\n",
    "                last = False\n",
    "            else:\n",
    "                statesActionsReturns.append((playerSum, dealerCard, usableAce, action, G))\n",
    "            G = GAMMA*G + reward\n",
    "\n",
    "        statesActionsReturns.reverse()\n",
    "        statesActionsVisited = []\n",
    "\n",
    "        for playerSum, dealerCard, usableAce, action, G in statesActionsReturns:\n",
    "            sa = ((playerSum, dealerCard, usableAce), action)\n",
    "            if sa not in statesActionsVisited:\n",
    "                pairsVisited[sa] += 1\n",
    "                # Incremental implementation\n",
    "                # new estimate = 1/N * [sample - old estimate]\n",
    "                returns[(sa)] += (1 / pairsVisited[(sa)])*(G-returns[(sa)])\n",
    "                Q[sa] = returns[sa]\n",
    "                rand = np.random.random()\n",
    "                if rand < 1 - EPS:\n",
    "                    state = (playerSum, dealerCard, usableAce)\n",
    "                    values = np.array([Q[(state, a)] for a in actionSpace])\n",
    "                    best = np.random.choice(np.where(values==values.max())[0])\n",
    "                    policy[state] = actionSpace[best]\n",
    "                else:\n",
    "                    policy[state] = np.random.choice(actionSpace)\n",
    "                statesActionsVisited.append(actionSpace)\n",
    "\n",
    "        if EPS - 1e-7 > 0:\n",
    "            EPS -= 1e-7\n",
    "        else:\n",
    "            EPS = 0"
   ],
   "metadata": {
    "collapsed": false,
    "pycharm": {
     "name": "#%%\n"
    }
   }
  },
  {
   "cell_type": "code",
   "execution_count": 15,
   "outputs": [
    {
     "name": "stdout",
     "output_type": "stream",
     "text": [
      "getting ready to test policy\n",
      "win rate  0.454  loss rate  0.49  draw rate  0.056\n"
     ]
    },
    {
     "data": {
      "text/plain": "<Figure size 432x288 with 1 Axes>",
      "image/png": "[encoded data removed]"
     },
     "metadata": {
      "needs_background": "light"
     },
     "output_type": "display_data"
    }
   ],
   "source": [
    "    numEpisodes = 1000\n",
    "    rewards = np.zeros(numEpisodes)\n",
    "    totalReward = 0\n",
    "    wins = 0\n",
    "    losses = 0\n",
    "    draws = 0\n",
    "    print(\"getting ready to test policy\")\n",
    "    for i in range(numEpisodes):\n",
    "        observation = env.reset()\n",
    "        done = False\n",
    "        while not done:\n",
    "            action = policy[observation]\n",
    "            observation_, reward, done, info = env.step(action)\n",
    "            observation = observation_\n",
    "        totalReward += reward\n",
    "        rewards[i] = totalReward\n",
    "\n",
    "        if reward >= 1:\n",
    "            wins += 1\n",
    "        elif reward == 0:\n",
    "            draws += 1\n",
    "        elif reward == -1:\n",
    "            losses += 1\n",
    "\n",
    "    wins /= numEpisodes\n",
    "    losses /= numEpisodes\n",
    "    draws /= numEpisodes\n",
    "    print(\"win rate \", wins, \" loss rate \", losses, \" draw rate \", draws)\n",
    "    plt.plot(rewards)\n",
    "    plt.show()"
   ],
   "metadata": {
    "collapsed": false,
    "pycharm": {
     "name": "#%%\n"
    }
   }
  },
  {
   "cell_type": "code",
   "execution_count": null,
   "outputs": [],
   "source": [],
   "metadata": {
    "collapsed": false,
    "pycharm": {
     "name": "#%%\n"
    }
   }
  }
 ],
 "metadata": {
  "kernelspec": {
   "display_name": "Python 3",
   "language": "python",
   "name": "python3"
  },
  "language_info": {
   "codemirror_mode": {
    "name": "ipython",
    "version": 2
   },
   "file_extension": ".py",
   "mimetype": "text/x-python",
   "name": "python",
   "nbconvert_exporter": "python",
   "pygments_lexer": "ipython2",
   "version": "2.7.6"
  }
 },
 "nbformat": 4,
 "nbformat_minor": 0
}