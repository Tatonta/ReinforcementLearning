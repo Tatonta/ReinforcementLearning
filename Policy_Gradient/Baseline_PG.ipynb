{
 "cells": [
  {
   "cell_type": "code",
   "execution_count": 1,
   "metadata": {
    "collapsed": true,
    "pycharm": {
     "name": "#%%\n"
    }
   },
   "outputs": [],
   "source": [
    "import torch\n",
    "from torch.distributions import Categorical\n",
    "import gym\n",
    "import numpy as np\n",
    "from tqdm import tqdm\n",
    "import torch.nn as nn\n",
    "import torch.functional as F\n",
    "from torch.utils.tensorboard import SummaryWriter\n",
    "from collections import deque"
   ]
  },
  {
   "cell_type": "code",
   "execution_count": 2,
   "outputs": [],
   "source": [
    "env = gym.make(\"CartPole-v1\")\n",
    "num_batches = 2000\n",
    "num_episodes = 10000\n",
    "GAMMA = 1\n",
    "learning_rate = 1e-3\n",
    "batch_size = 1000\n",
    "writer = SummaryWriter()\n",
    "device = torch.device(\"cuda\" if torch.cuda.is_available() else \"cpu\")\n",
    "input_size = env.observation_space.shape[0]\n",
    "output_size = env.action_space.n"
   ],
   "metadata": {
    "collapsed": false,
    "pycharm": {
     "name": "#%%\n"
    }
   }
  },
  {
   "cell_type": "code",
   "execution_count": 4,
   "outputs": [],
   "source": [
    "class policy_network(nn.Module):\n",
    "    def __init__(self, input_dims, output_dims):\n",
    "        super(policy_network, self).__init__()\n",
    "        self.SeqLayer = nn.Sequential(\n",
    "            nn.Linear(input_dims, 64),\n",
    "            nn.Tanh(),\n",
    "            nn.Linear(64, 64),\n",
    "            nn.Tanh(),\n",
    "            nn.Linear(64, output_dims),\n",
    "            nn.Softmax(dim = 1)\n",
    "        )\n",
    "\n",
    "    def forward(self, x):\n",
    "        out = self.SeqLayer(x)\n",
    "        return out\n",
    "\n",
    "    def act(self, state):\n",
    "        state_T = torch.from_numpy(state).float().unsqueeze(0).to(device)\n",
    "        action_distributions = self.forward(state_T)\n",
    "        m = Categorical(action_distributions)\n",
    "        action_sample = m.sample()\n",
    "        return action_sample.item(), m.log_prob(action_sample)\n",
    "\n",
    "class Value_Approx(nn.Module):\n",
    "    def __init__(self, input_dims, output_dims):\n",
    "        super(Value_Approx, self).__init__()\n",
    "        self.SeqLayer = nn.Sequential(\n",
    "            nn.Linear(input_dims, 64),\n",
    "            nn.Tanh(),\n",
    "            nn.Linear(64, 64),\n",
    "            nn.Tanh(),\n",
    "            nn.Linear(64, output_dims),\n",
    "        )\n",
    "\n",
    "    def forward(self, x):\n",
    "        out = self.SeqLayer(x)\n",
    "        return out\n",
    "\n",
    "\n",
    "policy = policy_network(input_size, output_size).to(device)\n",
    "value_function_estimator = Value_Approx(input_size, 1).to(device)\n",
    "critic_optimizer = torch.optim.Adam(policy.parameters(), lr = learning_rate)\n",
    "value_optimizer = torch.optim.Adam(value_function_estimator.parameters(), lr = learning_rate)\n",
    "loss_fn = nn.MSELoss()"
   ],
   "metadata": {
    "collapsed": false,
    "pycharm": {
     "name": "#%%\n"
    }
   }
  },
  {
   "cell_type": "code",
   "execution_count": 5,
   "outputs": [],
   "source": [
    "def RewardsToGo(rewards, baseline):\n",
    "    subsequent_reward = []\n",
    "    for i in range(len(rewards)):\n",
    "        subsequent_reward.append(sum(rewards[i:])-baseline[i].item())\n",
    "    return subsequent_reward"
   ],
   "metadata": {
    "collapsed": false,
    "pycharm": {
     "name": "#%%\n"
    }
   }
  },
  {
   "cell_type": "code",
   "execution_count": 8,
   "outputs": [
    {
     "name": "stderr",
     "output_type": "stream",
     "text": [
      "100%|██████████| 2000/2000 [1:20:10<00:00,  2.41s/it]\n"
     ]
    }
   ],
   "source": [
    "episodes_rewards = np.zeros(num_episodes)\n",
    "ep_counter = 0\n",
    "for i in tqdm(range(num_batches)):\n",
    "    log_probs = []\n",
    "    rewards = []\n",
    "    batch_rewards = []\n",
    "    baseline_predictions = []\n",
    "    on_episode_predictions = []\n",
    "    done = False\n",
    "    state = env.reset()\n",
    "    while not done:\n",
    "        action, log_prob = policy.act(state)\n",
    "        state = torch.from_numpy(state).float().to(device)\n",
    "        state_value = value_function_estimator(state)\n",
    "        log_probs.append(log_prob)\n",
    "        on_episode_predictions.append(state_value)\n",
    "        state, R, done, info = env.step(action)\n",
    "        rewards.append(R)\n",
    "        if done:\n",
    "            ep_counter += 1\n",
    "            subsequent_rewards = RewardsToGo(rewards, on_episode_predictions)\n",
    "            batch_rewards.extend(subsequent_rewards)\n",
    "            baseline_predictions.extend(on_episode_predictions)\n",
    "            on_episode_predictions = []\n",
    "            total_reward = sum(rewards)\n",
    "            episodes_rewards[ep_counter] = total_reward\n",
    "            writer.add_scalar(\"Episode Total Reward\", episodes_rewards[ep_counter], ep_counter)\n",
    "            rewards = []\n",
    "            state = env.reset()\n",
    "            done = False\n",
    "            if len(log_probs) >= batch_size:\n",
    "                break\n",
    "    batch_rewards = np.asarray(batch_rewards)\n",
    "    batch_probs = torch.cat(log_probs)\n",
    "    batch_rewards_T = torch.from_numpy(batch_rewards).float().to(device)\n",
    "    baseline_T = torch.cat(baseline_predictions)\n",
    "    value_loss = loss_fn(batch_rewards_T, baseline_T)\n",
    "    loss = -(batch_probs*batch_rewards_T).mean()+value_loss\n",
    "    critic_optimizer.zero_grad()\n",
    "    value_optimizer.zero_grad()\n",
    "    loss.backward()\n",
    "    critic_optimizer.step()\n",
    "    value_optimizer.step()"
   ],
   "metadata": {
    "collapsed": false,
    "pycharm": {
     "name": "#%%\n"
    }
   }
  },
  {
   "cell_type": "code",
   "execution_count": null,
   "outputs": [],
   "source": [],
   "metadata": {
    "collapsed": false,
    "pycharm": {
     "name": "#%%\n"
    }
   }
  }
 ],
 "metadata": {
  "kernelspec": {
   "display_name": "Python 3",
   "language": "python",
   "name": "python3"
  },
  "language_info": {
   "codemirror_mode": {
    "name": "ipython",
    "version": 2
   },
   "file_extension": ".py",
   "mimetype": "text/x-python",
   "name": "python",
   "nbconvert_exporter": "python",
   "pygments_lexer": "ipython2",
   "version": "2.7.6"
  }
 },
 "nbformat": 4,
 "nbformat_minor": 0
}