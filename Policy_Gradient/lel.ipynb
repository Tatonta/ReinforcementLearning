{
 "cells": [
  {
   "cell_type": "code",
   "execution_count": 28,
   "metadata": {
    "collapsed": true,
    "pycharm": {
     "name": "#%%\n"
    }
   },
   "outputs": [],
   "source": [
    "import torch\n",
    "import gym\n",
    "import numpy as np\n",
    "import torch.nn as nn\n",
    "import os\n",
    "import torch.nn.functional as F"
   ]
  },
  {
   "cell_type": "code",
   "execution_count": 29,
   "outputs": [],
   "source": [
    "class ActorNetwork(nn.Module):\n",
    "    def __init__(self, alpha,  input_dims, fc1_dims, fc2_dims, n_actions, name,\n",
    "                 chkpt_dir=\"tmp/ddpg\"):\n",
    "        super(ActorNetwork, self).__init__()\n",
    "        self.input_dims = input_dims\n",
    "        self.n_actions = n_actions\n",
    "        self.fc1_dims = fc1_dims\n",
    "        self.fc2_dims = fc2_dims\n",
    "        self.checkpoint_file = os.path.join(chkpt_dir, name+\"_ddpg\")\n",
    "\n",
    "        self.fc1 = nn.Linear(*self.input_dims, self.fc1_dims)\n",
    "        f1 = 1/np.sqrt(self.fc1.weight.data.size()[0])\n",
    "        torch.nn.init.uniform_(self.fc1.weight.data, -f1, f1)\n",
    "        torch.nn.init.uniform_(self.fc1.bias.data, -f1,  f1)\n",
    "        self.bn1 = nn.LayerNorm(self.fc1_dims)\n",
    "        self.fc2 = nn.Linear(self.fc1_dims, self.fc2_dims)\n",
    "        f2 = 1/np.sqrt(self.fc2.weight.data.size()[0])\n",
    "        torch.nn.init.uniform_(self.fc2.weight.data, -f2, f2)\n",
    "        torch.nn.init.uniform_(self.fc2.bias.data, -f2, f2)\n",
    "        self.bn2 = nn.LayerNorm(self.fc2_dims)\n",
    "\n",
    "        f3 = 0.003\n",
    "        self.mu = nn.Linear(self.fc2_dims, self.n_actions)\n",
    "        torch.nn.init.uniform_(self.mu.weight.data, -f3, f3)\n",
    "        torch.nn.init.uniform_(self.mu.bias.data, -f3, f3)\n",
    "\n",
    "        self.optimizer = torch.optim.Adam(self.parameters(), lr=alpha)\n",
    "        self.device = torch.device(\"cuda\" if torch.cuda.is_available() else \"cpu\")\n",
    "        self.to(self.device)\n",
    "\n",
    "    def forward(self, state):\n",
    "        x = self.fc1(state)\n",
    "        x = self.bn1(x)\n",
    "        x = F.relu(x)\n",
    "        x = self.fc2(x)\n",
    "        x = self.bn2(x)\n",
    "        x = F.relu(x)\n",
    "        x = torch.tanh(self.mu(x))\n",
    "\n",
    "        return x\n",
    "\n",
    "    def save_checkpoint(self):\n",
    "        print(\"... saving checkpoint ...\")\n",
    "        torch.save(self.state_dict(), self.checkpoint_file)\n",
    "\n",
    "    def load_checkpoint(self):\n",
    "        print(\"... loading checkpoint ...\")\n",
    "        self.load_state_dict(torch.load(self.checkpoint_file))"
   ],
   "metadata": {
    "collapsed": false,
    "pycharm": {
     "name": "#%%\n"
    }
   }
  },
  {
   "cell_type": "code",
   "execution_count": 30,
   "outputs": [
    {
     "data": {
      "text/plain": "ActorNetwork(\n  (fc1): Linear(in_features=8, out_features=400, bias=True)\n  (bn1): LayerNorm((400,), eps=1e-05, elementwise_affine=True)\n  (fc2): Linear(in_features=400, out_features=300, bias=True)\n  (bn2): LayerNorm((300,), eps=1e-05, elementwise_affine=True)\n  (mu): Linear(in_features=300, out_features=2, bias=True)\n)"
     },
     "execution_count": 30,
     "metadata": {},
     "output_type": "execute_result"
    }
   ],
   "source": [
    "device = torch.device(\"cuda\" if torch.cuda.is_available() else \"cpu\")\n",
    "Net = ActorNetwork(0.000025, [8], 400, 300, n_actions = 2, name = \"pippo\")\n",
    "Net.load_state_dict(torch.load(\"tmp/ddpg/Actor_ddpg\"))\n",
    "Net.eval()"
   ],
   "metadata": {
    "collapsed": false,
    "pycharm": {
     "name": "#%%\n"
    }
   }
  },
  {
   "cell_type": "code",
   "execution_count": 31,
   "outputs": [],
   "source": [
    "def choose_action(observation):\n",
    "    # Net.eval() #Perchè altrimenti terrebbe conto della batch_norm e calcolerebbe statistiche in continuazione\n",
    "    observation = torch.tensor(observation, dtype = torch.float).to(device)\n",
    "    mu = Net(observation).to(device)\n",
    "    return mu.cpu().detach().numpy()"
   ],
   "metadata": {
    "collapsed": false,
    "pycharm": {
     "name": "#%%\n"
    }
   }
  },
  {
   "cell_type": "code",
   "execution_count": 32,
   "outputs": [],
   "source": [
    "env = gym.make(\"LunarLanderContinuous-v2\")\n",
    "num_eps = 50\n",
    "for i in range(num_eps):\n",
    "    done = False\n",
    "    obs = env.reset()\n",
    "    score = 0\n",
    "    while not done:\n",
    "        action = choose_action(obs)\n",
    "        new_state, reward, done, info = env.step(action)\n",
    "        score += reward\n",
    "        obs = new_state\n",
    "        env.render()"
   ],
   "metadata": {
    "collapsed": false,
    "pycharm": {
     "name": "#%%\n"
    }
   }
  },
  {
   "cell_type": "code",
   "execution_count": null,
   "outputs": [],
   "source": [],
   "metadata": {
    "collapsed": false,
    "pycharm": {
     "name": "#%%\n"
    }
   }
  }
 ],
 "metadata": {
  "kernelspec": {
   "display_name": "Python 3",
   "language": "python",
   "name": "python3"
  },
  "language_info": {
   "codemirror_mode": {
    "name": "ipython",
    "version": 2
   },
   "file_extension": ".py",
   "mimetype": "text/x-python",
   "name": "python",
   "nbconvert_exporter": "python",
   "pygments_lexer": "ipython2",
   "version": "2.7.6"
  }
 },
 "nbformat": 4,
 "nbformat_minor": 0
}