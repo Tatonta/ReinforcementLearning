{
 "cells": [
  {
   "cell_type": "code",
   "execution_count": 1,
   "metadata": {
    "collapsed": true,
    "pycharm": {
     "name": "#%%\n"
    }
   },
   "outputs": [],
   "source": [
    "import torch\n",
    "from torch.distributions import Categorical\n",
    "import gym\n",
    "import numpy as np\n",
    "from tqdm import tqdm\n",
    "import torch.nn as nn\n",
    "import torch.functional as F\n",
    "from torch.utils.tensorboard import SummaryWriter\n",
    "from collections import deque"
   ]
  },
  {
   "cell_type": "code",
   "execution_count": 2,
   "outputs": [],
   "source": [
    "env = gym.make(\"CartPole-v1\")\n",
    "num_batches = 2000\n",
    "GAMMA = 1\n",
    "learning_rate = 1e-3\n",
    "batch_size = 1000\n",
    "writer = SummaryWriter()\n",
    "device = torch.device(\"cuda\" if torch.cuda.is_available() else \"cpu\")\n",
    "input_size = env.observation_space.shape[0]\n",
    "output_size = env.action_space.n"
   ],
   "metadata": {
    "collapsed": false,
    "pycharm": {
     "name": "#%%\n"
    }
   }
  },
  {
   "cell_type": "code",
   "execution_count": 3,
   "outputs": [],
   "source": [
    "class Policy(nn.Module):\n",
    "    def __init__(self, input_dims, output_dims):\n",
    "        super(Policy, self).__init__()\n",
    "        self.Seq = nn.Sequential(\n",
    "            nn.Linear(input_dims, 64),\n",
    "            nn.Tanh(),\n",
    "            nn.Linear(64, 64),\n",
    "            nn.Tanh(),\n",
    "            nn.Linear(64, output_dims),\n",
    "            nn.Softmax(dim=1)\n",
    "        )\n",
    "\n",
    "    def forward(self, x):\n",
    "        out = self.Seq(x)\n",
    "        return out\n",
    "\n",
    "    def act(self, state):\n",
    "        state_t = torch.from_numpy(state).float().unsqueeze(0).to(device)\n",
    "        action_distributions = self.forward(state_t)\n",
    "        m = Categorical(action_distributions)\n",
    "        action = m.sample()\n",
    "        return action.item(), m.log_prob(action)\n",
    "\n",
    "policy = Policy(input_size, output_size).to(device)\n",
    "optimizer = torch.optim.Adam(policy.parameters(), lr = learning_rate)"
   ],
   "metadata": {
    "collapsed": false,
    "pycharm": {
     "name": "#%%\n"
    }
   }
  },
  {
   "cell_type": "code",
   "execution_count": 4,
   "outputs": [
    {
     "name": "stderr",
     "output_type": "stream",
     "text": [
      "100%|██████████| 2000/2000 [1:01:08<00:00,  1.83s/it]\n"
     ]
    }
   ],
   "source": [
    "for i in tqdm(range(num_batches)):\n",
    "    done = False\n",
    "    saved_logProbs = []\n",
    "    state = env.reset()\n",
    "    batch_reward = []\n",
    "    rewards = []\n",
    "    while True:\n",
    "        action, log_distribution = policy.act(state)\n",
    "        saved_logProbs.append(log_distribution)\n",
    "        state, R, done, _ = env.step(action)\n",
    "        rewards.append(R)\n",
    "        if done:\n",
    "            ep_reward = sum(rewards)\n",
    "            batch_reward += [ep_reward] * len(rewards)\n",
    "            rewards = []\n",
    "            state = env.reset()\n",
    "            done = False\n",
    "        if len(batch_reward) >= batch_size:\n",
    "            batch_sum = sum(batch_reward)\n",
    "            writer.add_scalar(\"Average reward per Batch\", batch_sum/len(batch_reward), i)\n",
    "            break\n",
    "    batch_reward = np.asarray(batch_reward)\n",
    "    batch_rewards_T = torch.from_numpy(batch_reward).float().to(device)\n",
    "    log_batch = torch.cat(saved_logProbs)\n",
    "    gradient_loss = -(log_batch*batch_rewards_T).mean()\n",
    "    optimizer.zero_grad()\n",
    "    gradient_loss.backward()\n",
    "    optimizer.step()\n"
   ],
   "metadata": {
    "collapsed": false,
    "pycharm": {
     "name": "#%%\n"
    }
   }
  },
  {
   "cell_type": "code",
   "execution_count": null,
   "outputs": [],
   "source": [],
   "metadata": {
    "collapsed": false,
    "pycharm": {
     "name": "#%%\n"
    }
   }
  }
 ],
 "metadata": {
  "kernelspec": {
   "display_name": "Python 3",
   "language": "python",
   "name": "python3"
  },
  "language_info": {
   "codemirror_mode": {
    "name": "ipython",
    "version": 2
   },
   "file_extension": ".py",
   "mimetype": "text/x-python",
   "name": "python",
   "nbconvert_exporter": "python",
   "pygments_lexer": "ipython2",
   "version": "2.7.6"
  }
 },
 "nbformat": 4,
 "nbformat_minor": 0
}