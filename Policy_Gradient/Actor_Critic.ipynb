{
 "cells": [
  {
   "cell_type": "code",
   "execution_count": 21,
   "metadata": {
    "collapsed": true,
    "pycharm": {
     "name": "#%%\n"
    }
   },
   "outputs": [],
   "source": [
    "import torch\n",
    "from torch.distributions import Categorical\n",
    "import gym\n",
    "import numpy as np\n",
    "from tqdm import tqdm\n",
    "import torch.nn as nn\n",
    "import torch.functional as F\n",
    "from torch.utils.tensorboard import SummaryWriter\n",
    "from collections import deque"
   ]
  },
  {
   "cell_type": "code",
   "execution_count": 22,
   "outputs": [],
   "source": [
    "env = gym.make(\"CartPole-v1\")\n",
    "num_batches = 2000\n",
    "num_episodes = 10000\n",
    "GAMMA = 1\n",
    "learning_rate = 1e-5\n",
    "batch_size = 1000\n",
    "writer = SummaryWriter()\n",
    "device = torch.device(\"cuda\" if torch.cuda.is_available() else \"cpu\")\n",
    "input_size = env.observation_space.shape[0]\n",
    "output_size = env.action_space.n"
   ],
   "metadata": {
    "collapsed": false,
    "pycharm": {
     "name": "#%%\n"
    }
   }
  },
  {
   "cell_type": "code",
   "execution_count": 23,
   "outputs": [],
   "source": [
    "class policy_network(nn.Module):\n",
    "    def __init__(self, input_dims, output_dims):\n",
    "        super(policy_network, self).__init__()\n",
    "        self.SeqLayer = nn.Sequential(\n",
    "            nn.Linear(input_dims, 64),\n",
    "            nn.Tanh(),\n",
    "            nn.Linear(64, 64),\n",
    "            nn.Tanh(),\n",
    "            nn.Linear(64, output_dims),\n",
    "            nn.Softmax(dim = 1)\n",
    "        )\n",
    "\n",
    "    def forward(self, x):\n",
    "        out = self.SeqLayer(x)\n",
    "        return out\n",
    "\n",
    "    def act(self, state):\n",
    "        state_T = torch.from_numpy(state).float().unsqueeze(0).to(device)\n",
    "        action_distributions = self.forward(state_T)\n",
    "        m = Categorical(action_distributions)\n",
    "        action_sample = m.sample()\n",
    "        return action_sample.item(), m.log_prob(action_sample)\n",
    "\n",
    "class Value_Approx(nn.Module):\n",
    "    def __init__(self, input_dims, output_dims):\n",
    "        super(Value_Approx, self).__init__()\n",
    "        self.SeqLayer = nn.Sequential(\n",
    "            nn.Linear(input_dims, 64),\n",
    "            nn.Tanh(),\n",
    "            nn.Linear(64, 64),\n",
    "            nn.Tanh(),\n",
    "            nn.Linear(64, output_dims),\n",
    "        )\n",
    "\n",
    "    def forward(self, x):\n",
    "        out = self.SeqLayer(x)\n",
    "        return out\n",
    "\n",
    "\n",
    "policy = policy_network(input_size, output_size).to(device)\n",
    "value_function_estimator = Value_Approx(input_size, 1).to(device)\n",
    "critic_optimizer = torch.optim.Adam(policy.parameters(), lr = 1e-3)\n",
    "value_optimizer = torch.optim.Adam(value_function_estimator.parameters(), lr = learning_rate)\n",
    "loss_fn = nn.MSELoss()"
   ],
   "metadata": {
    "collapsed": false,
    "pycharm": {
     "name": "#%%\n"
    }
   }
  },
  {
   "cell_type": "code",
   "execution_count": 24,
   "outputs": [],
   "source": [
    "def AgentLearning(state, reward, next_state, done, log_prob):\n",
    "    value_optimizer.zero_grad()\n",
    "    critic_optimizer.zero_grad()\n",
    "    state_T = torch.from_numpy(state).float().to(device)\n",
    "    next_state_T = torch.from_numpy(next_state).float().to(device)\n",
    "    critic_value = value_function_estimator(state_T)\n",
    "    critic_next_value = value_function_estimator(next_state_T)\n",
    "    TD_error = reward + GAMMA*critic_next_value*(1-int(done))-critic_value\n",
    "    target = reward + GAMMA*critic_next_value*(1-int(done))\n",
    "    prediction = critic_value\n",
    "    critic_loss = loss_fn(prediction, target)\n",
    "    policy_loss = -log_prob*TD_error\n",
    "    (critic_loss+policy_loss).backward()\n",
    "    value_optimizer.step()\n",
    "    critic_optimizer.step()"
   ],
   "metadata": {
    "collapsed": false,
    "pycharm": {
     "name": "#%%\n"
    }
   }
  },
  {
   "cell_type": "code",
   "execution_count": 25,
   "outputs": [
    {
     "name": "stderr",
     "output_type": "stream",
     "text": [
      " 30%|██▉       | 2991/10000 [13:20<31:15,  3.74it/s]  \n",
      "\n",
      "KeyboardInterrupt\n",
      "\n"
     ]
    }
   ],
   "source": [
    "episodes_rewards = np.zeros(num_episodes)\n",
    "for i in tqdm(range(num_episodes)):\n",
    "    done = False\n",
    "    state = env.reset()\n",
    "    score = 0\n",
    "    while not done:\n",
    "        action, log_prob = policy.act(state)\n",
    "        next_state, reward, done, info = env.step(action)\n",
    "        AgentLearning(state, reward, next_state, done, log_prob)\n",
    "        state = next_state\n",
    "        score += reward\n",
    "    episodes_rewards[i] = score\n",
    "    writer.add_scalar(\"Episode total reward\", episodes_rewards[i], i)"
   ],
   "metadata": {
    "collapsed": false,
    "pycharm": {
     "name": "#%%\n"
    }
   }
  },
  {
   "cell_type": "code",
   "execution_count": null,
   "outputs": [],
   "source": [],
   "metadata": {
    "collapsed": false,
    "pycharm": {
     "name": "#%%\n"
    }
   }
  }
 ],
 "metadata": {
  "kernelspec": {
   "display_name": "Python 3",
   "language": "python",
   "name": "python3"
  },
  "language_info": {
   "codemirror_mode": {
    "name": "ipython",
    "version": 2
   },
   "file_extension": ".py",
   "mimetype": "text/x-python",
   "name": "python",
   "nbconvert_exporter": "python",
   "pygments_lexer": "ipython2",
   "version": "2.7.6"
  }
 },
 "nbformat": 4,
 "nbformat_minor": 0
}