{
 "cells": [
  {
   "cell_type": "code",
   "execution_count": 22,
   "metadata": {
    "collapsed": true,
    "pycharm": {
     "name": "#%%\n"
    }
   },
   "outputs": [],
   "source": [
    "import torch\n",
    "from torch.distributions import Categorical\n",
    "import gym\n",
    "import numpy as np\n",
    "from tqdm import tqdm\n",
    "import torch.nn as nn\n",
    "import torch.functional as F\n",
    "from torch.utils.tensorboard import SummaryWriter\n",
    "from collections import deque"
   ]
  },
  {
   "cell_type": "code",
   "execution_count": 23,
   "outputs": [],
   "source": [
    "env = gym.make(\"CartPole-v1\")\n",
    "num_batches = 2000\n",
    "num_episodes = 10000\n",
    "GAMMA = 1\n",
    "learning_rate = 1e-3\n",
    "batch_size = 1000\n",
    "writer = SummaryWriter()\n",
    "device = torch.device(\"cuda\" if torch.cuda.is_available() else \"cpu\")\n",
    "input_size = env.observation_space.shape[0]\n",
    "output_size = env.action_space.n"
   ],
   "metadata": {
    "collapsed": false,
    "pycharm": {
     "name": "#%%\n"
    }
   }
  },
  {
   "cell_type": "code",
   "execution_count": 24,
   "outputs": [],
   "source": [
    "class policy_network(nn.Module):\n",
    "    def __init__(self, input_dims, output_dims):\n",
    "        super(policy_network, self).__init__()\n",
    "        self.SeqLayer = nn.Sequential(\n",
    "            nn.Linear(input_dims, 64),\n",
    "            nn.Tanh(),\n",
    "            nn.Linear(64, 64),\n",
    "            nn.Tanh(),\n",
    "            nn.Linear(64, output_dims),\n",
    "            nn.Softmax(dim = 1)\n",
    "        )\n",
    "\n",
    "    def forward(self, x):\n",
    "        out = self.SeqLayer(x)\n",
    "        return out\n",
    "\n",
    "    def act(self, state):\n",
    "        state_T = torch.from_numpy(state).float().unsqueeze(0).to(device)\n",
    "        action_distributions = self.forward(state_T)\n",
    "        m = Categorical(action_distributions)\n",
    "        action_sample = m.sample()\n",
    "        return action_sample.item(), m.log_prob(action_sample).item()\n",
    "\n",
    "class Value_Approx(nn.Module):\n",
    "    def __init__(self, input_dims, output_dims):\n",
    "        super(Value_Approx, self).__init__()\n",
    "        self.SeqLayer = nn.Sequential(\n",
    "            nn.Linear(input_dims, 64),\n",
    "            nn.Tanh(),\n",
    "            nn.Linear(64, 64),\n",
    "            nn.Tanh(),\n",
    "            nn.Linear(64, output_dims),\n",
    "        )\n",
    "\n",
    "    def forward(self, x):\n",
    "        out = self.SeqLayer(x)\n",
    "        return out\n",
    "\n",
    "\n",
    "policy = policy_network(input_size, output_size).to(device)\n",
    "value_function_estimator = Value_Approx(input_size, 1).to(device)\n",
    "critic_optimizer = torch.optim.Adam(policy.parameters(), lr = learning_rate)\n",
    "value_optimizer = torch.optim.Adam(value_function_estimator.parameters(), lr = learning_rate)\n",
    "loss_fn = nn.MSELoss()"
   ],
   "metadata": {
    "collapsed": false,
    "pycharm": {
     "name": "#%%\n"
    }
   }
  },
  {
   "cell_type": "code",
   "execution_count": 25,
   "outputs": [],
   "source": [
    "def Qvals_calculator(rewards, last_state, GAMMA = 1):\n",
    "    last_state_value = value_function_estimator(last_state)\n",
    "    Qvals = np.zeros_like(rewards)\n",
    "    for t in reversed(range(len(rewards))):\n",
    "        Qval = rewards[t] + GAMMA * last_state_value\n",
    "        Qvals[t] = Qval\n",
    "    return Qvals"
   ],
   "metadata": {
    "collapsed": false,
    "pycharm": {
     "name": "#%%\n"
    }
   }
  },
  {
   "cell_type": "code",
   "execution_count": 30,
   "outputs": [
    {
     "name": "stderr",
     "output_type": "stream",
     "text": [
      " 20%|█▉        | 1992/10000 [00:55<03:44, 35.66it/s]\n"
     ]
    },
    {
     "ename": "KeyboardInterrupt",
     "evalue": "",
     "output_type": "error",
     "traceback": [
      "\u001B[1;31m---------------------------------------------------------------------------\u001B[0m",
      "\u001B[1;31mKeyboardInterrupt\u001B[0m                         Traceback (most recent call last)",
      "Input \u001B[1;32mIn [30]\u001B[0m, in \u001B[0;36m<cell line: 31>\u001B[1;34m()\u001B[0m\n\u001B[0;32m     34\u001B[0m score \u001B[38;5;241m=\u001B[39m \u001B[38;5;241m0\u001B[39m\n\u001B[0;32m     35\u001B[0m \u001B[38;5;28;01mwhile\u001B[39;00m \u001B[38;5;129;01mnot\u001B[39;00m done:\n\u001B[1;32m---> 36\u001B[0m     action, log_prob \u001B[38;5;241m=\u001B[39m \u001B[43mpolicy\u001B[49m\u001B[38;5;241;43m.\u001B[39;49m\u001B[43mact\u001B[49m\u001B[43m(\u001B[49m\u001B[43mstate\u001B[49m\u001B[43m)\u001B[49m\n\u001B[0;32m     37\u001B[0m     next_state, reward, done, info \u001B[38;5;241m=\u001B[39m env\u001B[38;5;241m.\u001B[39mstep(action)\n\u001B[0;32m     38\u001B[0m     batch_states\u001B[38;5;241m.\u001B[39mappend(state)\n",
      "Input \u001B[1;32mIn [24]\u001B[0m, in \u001B[0;36mpolicy_network.act\u001B[1;34m(self, state)\u001B[0m\n\u001B[0;32m     18\u001B[0m state_T \u001B[38;5;241m=\u001B[39m torch\u001B[38;5;241m.\u001B[39mfrom_numpy(state)\u001B[38;5;241m.\u001B[39mfloat()\u001B[38;5;241m.\u001B[39munsqueeze(\u001B[38;5;241m0\u001B[39m)\u001B[38;5;241m.\u001B[39mto(device)\n\u001B[0;32m     19\u001B[0m action_distributions \u001B[38;5;241m=\u001B[39m \u001B[38;5;28mself\u001B[39m\u001B[38;5;241m.\u001B[39mforward(state_T)\n\u001B[1;32m---> 20\u001B[0m m \u001B[38;5;241m=\u001B[39m \u001B[43mCategorical\u001B[49m\u001B[43m(\u001B[49m\u001B[43maction_distributions\u001B[49m\u001B[43m)\u001B[49m\n\u001B[0;32m     21\u001B[0m action_sample \u001B[38;5;241m=\u001B[39m m\u001B[38;5;241m.\u001B[39msample()\n\u001B[0;32m     22\u001B[0m \u001B[38;5;28;01mreturn\u001B[39;00m action_sample\u001B[38;5;241m.\u001B[39mitem(), m\u001B[38;5;241m.\u001B[39mlog_prob(action_sample)\u001B[38;5;241m.\u001B[39mitem()\n",
      "File \u001B[1;32m~\\AppData\\Local\\Programs\\Python\\Python38\\lib\\site-packages\\torch\\distributions\\categorical.py:64\u001B[0m, in \u001B[0;36mCategorical.__init__\u001B[1;34m(self, probs, logits, validate_args)\u001B[0m\n\u001B[0;32m     62\u001B[0m \u001B[38;5;28mself\u001B[39m\u001B[38;5;241m.\u001B[39m_num_events \u001B[38;5;241m=\u001B[39m \u001B[38;5;28mself\u001B[39m\u001B[38;5;241m.\u001B[39m_param\u001B[38;5;241m.\u001B[39msize()[\u001B[38;5;241m-\u001B[39m\u001B[38;5;241m1\u001B[39m]\n\u001B[0;32m     63\u001B[0m batch_shape \u001B[38;5;241m=\u001B[39m \u001B[38;5;28mself\u001B[39m\u001B[38;5;241m.\u001B[39m_param\u001B[38;5;241m.\u001B[39msize()[:\u001B[38;5;241m-\u001B[39m\u001B[38;5;241m1\u001B[39m] \u001B[38;5;28;01mif\u001B[39;00m \u001B[38;5;28mself\u001B[39m\u001B[38;5;241m.\u001B[39m_param\u001B[38;5;241m.\u001B[39mndimension() \u001B[38;5;241m>\u001B[39m \u001B[38;5;241m1\u001B[39m \u001B[38;5;28;01melse\u001B[39;00m torch\u001B[38;5;241m.\u001B[39mSize()\n\u001B[1;32m---> 64\u001B[0m \u001B[38;5;28;43msuper\u001B[39;49m\u001B[43m(\u001B[49m\u001B[43mCategorical\u001B[49m\u001B[43m,\u001B[49m\u001B[43m \u001B[49m\u001B[38;5;28;43mself\u001B[39;49m\u001B[43m)\u001B[49m\u001B[38;5;241;43m.\u001B[39;49m\u001B[38;5;21;43m__init__\u001B[39;49m\u001B[43m(\u001B[49m\u001B[43mbatch_shape\u001B[49m\u001B[43m,\u001B[49m\u001B[43m \u001B[49m\u001B[43mvalidate_args\u001B[49m\u001B[38;5;241;43m=\u001B[39;49m\u001B[43mvalidate_args\u001B[49m\u001B[43m)\u001B[49m\n",
      "File \u001B[1;32m~\\AppData\\Local\\Programs\\Python\\Python38\\lib\\site-packages\\torch\\distributions\\distribution.py:54\u001B[0m, in \u001B[0;36mDistribution.__init__\u001B[1;34m(self, batch_shape, event_shape, validate_args)\u001B[0m\n\u001B[0;32m     52\u001B[0m         value \u001B[38;5;241m=\u001B[39m \u001B[38;5;28mgetattr\u001B[39m(\u001B[38;5;28mself\u001B[39m, param)\n\u001B[0;32m     53\u001B[0m         valid \u001B[38;5;241m=\u001B[39m constraint\u001B[38;5;241m.\u001B[39mcheck(value)\n\u001B[1;32m---> 54\u001B[0m         \u001B[38;5;28;01mif\u001B[39;00m \u001B[38;5;129;01mnot\u001B[39;00m valid\u001B[38;5;241m.\u001B[39mall():\n\u001B[0;32m     55\u001B[0m             \u001B[38;5;28;01mraise\u001B[39;00m \u001B[38;5;167;01mValueError\u001B[39;00m(\n\u001B[0;32m     56\u001B[0m                 \u001B[38;5;124mf\u001B[39m\u001B[38;5;124m\"\u001B[39m\u001B[38;5;124mExpected parameter \u001B[39m\u001B[38;5;132;01m{\u001B[39;00mparam\u001B[38;5;132;01m}\u001B[39;00m\u001B[38;5;124m \u001B[39m\u001B[38;5;124m\"\u001B[39m\n\u001B[0;32m     57\u001B[0m                 \u001B[38;5;124mf\u001B[39m\u001B[38;5;124m\"\u001B[39m\u001B[38;5;124m(\u001B[39m\u001B[38;5;132;01m{\u001B[39;00m\u001B[38;5;28mtype\u001B[39m(value)\u001B[38;5;241m.\u001B[39m\u001B[38;5;18m__name__\u001B[39m\u001B[38;5;132;01m}\u001B[39;00m\u001B[38;5;124m of shape \u001B[39m\u001B[38;5;132;01m{\u001B[39;00m\u001B[38;5;28mtuple\u001B[39m(value\u001B[38;5;241m.\u001B[39mshape)\u001B[38;5;132;01m}\u001B[39;00m\u001B[38;5;124m) \u001B[39m\u001B[38;5;124m\"\u001B[39m\n\u001B[1;32m   (...)\u001B[0m\n\u001B[0;32m     60\u001B[0m                 \u001B[38;5;124mf\u001B[39m\u001B[38;5;124m\"\u001B[39m\u001B[38;5;124mbut found invalid values:\u001B[39m\u001B[38;5;130;01m\\n\u001B[39;00m\u001B[38;5;132;01m{\u001B[39;00mvalue\u001B[38;5;132;01m}\u001B[39;00m\u001B[38;5;124m\"\u001B[39m\n\u001B[0;32m     61\u001B[0m             )\n\u001B[0;32m     62\u001B[0m \u001B[38;5;28msuper\u001B[39m(Distribution, \u001B[38;5;28mself\u001B[39m)\u001B[38;5;241m.\u001B[39m\u001B[38;5;21m__init__\u001B[39m()\n",
      "\u001B[1;31mKeyboardInterrupt\u001B[0m: "
     ]
    }
   ],
   "source": [
    "def AgentLearning(state, reward, next_state, done, log_prob, qvals):\n",
    "    state = np.asarray(state)\n",
    "    reward = np.asarray(reward)\n",
    "    next_state = np.asarray(next_state)\n",
    "    log_prob = np.asarray(log_prob)\n",
    "    Qvals = np.asarray(qvals)\n",
    "    value_optimizer.zero_grad()\n",
    "    critic_optimizer.zero_grad()\n",
    "    Qvals = torch.from_numpy(Qvals).to(device)\n",
    "    log_probs = torch.from_numpy(log_prob).to(device)\n",
    "    state_T = torch.from_numpy(state).to(device)\n",
    "    next_state_T = torch.from_numpy(next_state).to(device)\n",
    "    reward = torch.from_numpy(reward).float().to(device)\n",
    "    critic_value = value_function_estimator(state_T).squeeze(1)\n",
    "    Advantage = Qvals - critic_value\n",
    "    critic_loss = 0.5 * Advantage.pow(2).mean()\n",
    "    policy_loss = -(log_probs*Advantage).mean()\n",
    "    (critic_loss+policy_loss).backward()\n",
    "    value_optimizer.step()\n",
    "    critic_optimizer.step()\n",
    "\n",
    "\n",
    "episodes_rewards = np.zeros(num_episodes)\n",
    "batch_states = deque(maxlen = 1000)\n",
    "batch_rewards = deque(maxlen = 1000)\n",
    "batch_next_states = deque(maxlen = 1000)\n",
    "batch_dones = deque(maxlen = 1000)\n",
    "batch_logs = deque(maxlen = 1000)\n",
    "batch_qvals = deque(maxlen = 1000)\n",
    "ep_reward = []\n",
    "for i in tqdm(range(num_episodes)):\n",
    "    done = False\n",
    "    state = env.reset()\n",
    "    score = 0\n",
    "    while not done:\n",
    "        action, log_prob = policy.act(state)\n",
    "        next_state, reward, done, info = env.step(action)\n",
    "        batch_states.append(state)\n",
    "        batch_rewards.append(reward)\n",
    "        batch_next_states.append(next_state)\n",
    "        batch_dones.append(done)\n",
    "        batch_logs.append(log_prob)\n",
    "        ep_reward.append(reward)\n",
    "        if done:\n",
    "            last_state = next_state\n",
    "            last_state = torch.from_numpy(last_state).to(device)\n",
    "            batch_qvals.extend(Qvals_calculator(ep_reward, last_state))\n",
    "            ep_reward = []\n",
    "        if len(batch_logs) >= batch_size and done:\n",
    "            AgentLearning(batch_states, batch_rewards, batch_next_states, batch_dones, batch_logs, batch_qvals)\n",
    "            batch_states = deque(maxlen = 1000)\n",
    "            batch_rewards = deque(maxlen = 1000)\n",
    "            batch_next_states = deque(maxlen = 1000)\n",
    "            batch_dones = deque(maxlen = 1000)\n",
    "            batch_qvals = deque(maxlen = 1000)\n",
    "            batch_logs = deque(maxlen = 1000)\n",
    "        state = next_state\n",
    "        score += reward\n",
    "    episodes_rewards[i] = score\n",
    "    writer.add_scalar(\"Episode total reward\", episodes_rewards[i], i)"
   ],
   "metadata": {
    "collapsed": false,
    "pycharm": {
     "name": "#%%\n"
    }
   }
  }
 ],
 "metadata": {
  "kernelspec": {
   "display_name": "Python 3",
   "language": "python",
   "name": "python3"
  },
  "language_info": {
   "codemirror_mode": {
    "name": "ipython",
    "version": 2
   },
   "file_extension": ".py",
   "mimetype": "text/x-python",
   "name": "python",
   "nbconvert_exporter": "python",
   "pygments_lexer": "ipython2",
   "version": "2.7.6"
  }
 },
 "nbformat": 4,
 "nbformat_minor": 0
}